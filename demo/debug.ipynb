{
 "cells": [
  {
   "cell_type": "markdown",
   "metadata": {
    "Collapsed": "false",
    "colab_type": "text",
    "id": "OjUNeFsxyguu"
   },
   "source": [
    "# Debugging Your Homework\n",
    "\n",
    "This notebook helps you interactively debug homework 5."
   ]
  },
  {
   "cell_type": "code",
   "execution_count": null,
   "metadata": {},
   "outputs": [],
   "source": [
    "# Enable autoreload to make debugging easier\n",
    "\n",
    "%load_ext autoreload\n",
    "%autoreload 2"
   ]
  },
  {
   "cell_type": "code",
   "execution_count": null,
   "metadata": {
    "Collapsed": "false",
    "colab": {
     "base_uri": "https://localhost:8080/",
     "height": 1000
    },
    "colab_type": "code",
    "id": "eJeo4XrHyguw",
    "outputId": "fc1a59d8-8ad9-494f-e7a1-9ac9b0775a9f",
    "tags": []
   },
   "outputs": [],
   "source": [
    "# Make sure the homework is installed as a package in the \"editing\" mode:\n",
    "\n",
    "! pip install -e .."
   ]
  },
  {
   "cell_type": "code",
   "execution_count": null,
   "metadata": {},
   "outputs": [],
   "source": [
    "# Then, load all the necessary packages\n",
    "# Note that there's warning from Wswiglal-redir-stdio that we will filter out\n",
    "\n",
    "import warnings\n",
    "warnings.filterwarnings(\"ignore\", \"Wswiglal-redir-stdio\")\n",
    "\n",
    "from phys305_hw5 import *\n",
    "import numpy as np\n",
    "import matplotlib.pyplot as plt\n",
    "\n",
    "from bilby.core.prior import Uniform, PowerLaw"
   ]
  },
  {
   "cell_type": "markdown",
   "metadata": {
    "Collapsed": "false",
    "colab_type": "text",
    "id": "_Hd4d4KVygu6"
   },
   "source": [
    "## Getting the data: GW150914\n",
    "\n",
    "Just like the tutorial, we'll analyse GW150914 in this homework.\n",
    "Our first task is to use `Interferometer()` to load up some data."
   ]
  },
  {
   "cell_type": "code",
   "execution_count": null,
   "metadata": {
    "Collapsed": "false",
    "colab": {},
    "colab_type": "code",
    "id": "1cUhLaFIygu6",
    "tags": []
   },
   "outputs": [],
   "source": [
    "time_of_event = 1126259462.4\n",
    "\n",
    "L1 = Interferometer('L1', time_of_event)\n",
    "H1 = Interferometer('H1', time_of_event)"
   ]
  },
  {
   "cell_type": "markdown",
   "metadata": {},
   "source": [
    "If your `Interferometer()` is implemented correctly, the following visualizations should work."
   ]
  },
  {
   "cell_type": "code",
   "execution_count": null,
   "metadata": {
    "tags": []
   },
   "outputs": [],
   "source": [
    "fig, (ax0, ax1) = plt.subplots(2,1)\n",
    "\n",
    "idxs = H1.strain_data.frequency_mask  # This is a boolean mask of the frequencies which we'll use in the analysis\n",
    "ax0.loglog(H1.strain_data.frequency_array[idxs],\n",
    "          np.abs(H1.strain_data.frequency_domain_strain[idxs]))\n",
    "ax0.loglog(H1.power_spectral_density.frequency_array[idxs],\n",
    "          H1.power_spectral_density.asd_array[idxs])\n",
    "\n",
    "idxs = L1.strain_data.frequency_mask  # This is a boolean mask of the frequencies which we'll use in the analysis\n",
    "ax1.loglog(L1.strain_data.frequency_array[idxs],\n",
    "          np.abs(L1.strain_data.frequency_domain_strain[idxs]))\n",
    "ax1.loglog(L1.power_spectral_density.frequency_array[idxs],\n",
    "          L1.power_spectral_density.asd_array[idxs])\n",
    "\n",
    "ax1.set_xlabel(\"Frequency [Hz]\")\n",
    "ax1.set_ylabel(\"Strain [strain/$\\sqrt{Hz}$]\")\n",
    "plt.show()"
   ]
  },
  {
   "cell_type": "markdown",
   "metadata": {},
   "source": [
    "We combine the two interferometers into a list for later use:"
   ]
  },
  {
   "cell_type": "code",
   "execution_count": null,
   "metadata": {},
   "outputs": [],
   "source": [
    "interferometers = [H1, L1]"
   ]
  },
  {
   "cell_type": "markdown",
   "metadata": {},
   "source": [
    "## Create a Prior\n",
    "\n",
    "Here, we create a prior fixing everything except the chirp mass, mass ratio, phase, geocent_time, and luminosity distance parameters.\n",
    "We narrow the domain of `phase`, `geocent_time`, and `luminosity_distance` based on the fitted values from the tutorial.\n",
    "This allows us to simplify this homework."
   ]
  },
  {
   "cell_type": "code",
   "execution_count": null,
   "metadata": {},
   "outputs": [],
   "source": [
    "prior = bilby.core.prior.PriorDict()\n",
    "\n",
    "prior['chirp_mass']   = Uniform(name='chirp_mass',   minimum=28.0,maximum=32)\n",
    "prior['mass_ratio']   = Uniform(name='mass_ratio',   minimum=0.5, maximum=1)\n",
    "prior['phase']        = Uniform(name=\"phase\",        minimum=4.54-0.2,   maximum=4.54+0.2)\n",
    "prior['geocent_time'] = Uniform(name=\"geocent_time\", minimum=time_of_event-0.01, maximum=time_of_event+0.01)\n",
    "prior['a_1']          =  0.0\n",
    "prior['a_2']          =  0.0\n",
    "prior['tilt_1']       =  0.0\n",
    "prior['tilt_2']       =  0.0\n",
    "prior['phi_12']       =  0.0\n",
    "prior['phi_jl']       =  0.0\n",
    "prior['dec']          =  -1.2232\n",
    "prior['ra']           =  2.19432\n",
    "prior['theta_jn']     =  1.89694\n",
    "prior['psi']          =  0.532268\n",
    "prior['luminosity_distance'] = PowerLaw(alpha=2, name='luminosity_distance', minimum=277, maximum=320, unit='Mpc', latex_label='$d_L$')"
   ]
  },
  {
   "cell_type": "markdown",
   "metadata": {},
   "source": [
    "The above values will be useful for homework assignment `a5.py`.\n",
    "\n",
    "We can now use `prior` to sample and compute a probability."
   ]
  },
  {
   "cell_type": "code",
   "execution_count": null,
   "metadata": {},
   "outputs": [],
   "source": [
    "sample = prior.sample()\n",
    "print(sample)\n",
    "print(prior.ln_prob(sample))"
   ]
  },
  {
   "cell_type": "markdown",
   "metadata": {},
   "source": [
    "## Waveform Generator\n",
    "\n",
    "Next, we use `WaveformGenerator(duration, sampling_frequency, start_time)` to create a waveform generator.\n",
    "Note that, because the parameters `duration`, `sampling_frequency`, `start_time` are the same for both interferometers, we only need to create one waveform generator."
   ]
  },
  {
   "cell_type": "code",
   "execution_count": null,
   "metadata": {},
   "outputs": [],
   "source": [
    "print(\n",
    "    L1.duration           == H1.duration,\n",
    "    L1.sampling_frequency == H1.sampling_frequency,\n",
    "    L1.start_time         == H1.start_time,\n",
    ")"
   ]
  },
  {
   "cell_type": "code",
   "execution_count": null,
   "metadata": {},
   "outputs": [],
   "source": [
    "waveform_generator = WaveformGenerator(L1.duration, L1.sampling_frequency, L1.start_time)"
   ]
  },
  {
   "cell_type": "markdown",
   "metadata": {},
   "source": [
    "If your `WaveformGenerator()` is implemented correctly, the following plot should work."
   ]
  },
  {
   "cell_type": "code",
   "execution_count": null,
   "metadata": {},
   "outputs": [],
   "source": [
    "waveforms = waveform_generator.frequency_domain_strain(sample)\n",
    "\n",
    "plt.loglog(waveform_generator.frequency_array, abs(waveforms['plus']))\n",
    "plt.loglog(waveform_generator.frequency_array, abs(waveforms['cross']))"
   ]
  },
  {
   "cell_type": "markdown",
   "metadata": {},
   "source": [
    "One may update the parameters in `sample` to generate a different waveform."
   ]
  },
  {
   "cell_type": "code",
   "execution_count": null,
   "metadata": {},
   "outputs": [],
   "source": [
    "sample['chirp_mass'] = 10\n",
    "waveforms = waveform_generator.frequency_domain_strain(sample)\n",
    "\n",
    "plt.loglog(waveform_generator.frequency_array, abs(waveforms['plus']))\n",
    "plt.loglog(waveform_generator.frequency_array, abs(waveforms['cross']))"
   ]
  },
  {
   "cell_type": "markdown",
   "metadata": {},
   "source": [
    "## Create a likelihood\n",
    "\n",
    "For Bayesian inference, we need to evaluate the likelihood."
   ]
  },
  {
   "cell_type": "code",
   "execution_count": null,
   "metadata": {
    "tags": []
   },
   "outputs": [],
   "source": [
    "likelihood = bilby.gw.likelihood.GravitationalWaveTransient(\n",
    "    interferometers, waveform_generator, priors=prior,\n",
    "    time_marginalization=True, phase_marginalization=True, distance_marginalization=True)"
   ]
  },
  {
   "cell_type": "markdown",
   "metadata": {},
   "source": [
    "We can now compute `log_likelihood()` for different `parameters`."
   ]
  },
  {
   "cell_type": "code",
   "execution_count": null,
   "metadata": {},
   "outputs": [],
   "source": [
    "for _ in range(10):\n",
    "    likelihood.parameters = prior.sample()\n",
    "    print(likelihood.log_likelihood())"
   ]
  },
  {
   "cell_type": "markdown",
   "metadata": {
    "Collapsed": "false",
    "colab_type": "text",
    "id": "LCfygeVyygvM"
   },
   "source": [
    "## Run the analysis\n",
    "\n",
    "Now that the prior is set-up and the likelihood is set-up (with the data and the signal mode), we can run our own MCMC sampler in `a3.py` to get the posterior result."
   ]
  },
  {
   "cell_type": "code",
   "execution_count": null,
   "metadata": {},
   "outputs": [],
   "source": [
    "samples = mcmc_sampler(likelihood, prior, [0.1, 0.01])"
   ]
  },
  {
   "cell_type": "markdown",
   "metadata": {},
   "source": [
    "## Looking at the outputs\n",
    "\n",
    "We can now use `a4.py` to print out statistics information and create a corner plot. "
   ]
  },
  {
   "cell_type": "code",
   "execution_count": null,
   "metadata": {
    "tags": []
   },
   "outputs": [],
   "source": [
    "stat(samples, 'corner.png')"
   ]
  }
 ],
 "metadata": {
  "colab": {
   "name": "Tuto_3.2_Parameter_estimation_for_compact_object_mergers.ipynb",
   "provenance": []
  },
  "kernelspec": {
   "display_name": "Python 3 (ipykernel)",
   "language": "python",
   "name": "python3"
  },
  "language_info": {
   "codemirror_mode": {
    "name": "ipython",
    "version": 3
   },
   "file_extension": ".py",
   "mimetype": "text/x-python",
   "name": "python",
   "nbconvert_exporter": "python",
   "pygments_lexer": "ipython3",
   "version": "3.9.22"
  }
 },
 "nbformat": 4,
 "nbformat_minor": 4
}
